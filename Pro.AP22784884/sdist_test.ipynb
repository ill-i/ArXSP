{
 "cells": [
  {
   "cell_type": "code",
   "execution_count": 2,
   "id": "ede86b43-bf9e-44d1-8ecb-b6090cb198b9",
   "metadata": {
    "tags": []
   },
   "outputs": [],
   "source": [
    "import os\n",
    "import csv\n",
    "import numpy as np\n",
    "import re\n",
    "from datetime import datetime\n",
    "from ArxSR import *\n",
    "import numpy as np"
   ]
  },
  {
   "cell_type": "code",
   "execution_count": 3,
   "id": "bd223874-0dd6-4bbd-aaed-3137bda0e736",
   "metadata": {
    "tags": []
   },
   "outputs": [
    {
     "name": "stdout",
     "output_type": "stream",
     "text": [
      "MRK6_04-05.02.1976_10.5m_XVI-6-aligs\n",
      "\n",
      " Ошибка: index 0 is out of bounds for axis 0 with size 0\n",
      "Ошибка при выполнении коррекции дисторсии.\n"
     ]
    }
   ],
   "source": [
    "# Путь к FITS-файлу\n",
    "path_to_fits = \"MRK6_04-05.02.1976_10.5m_XVI-6-alig.fits\"  # замените на свой путь\n",
    "\n",
    "# Загружаем данные\n",
    "arx = ArxData(path=path_to_fits)\n",
    "editor = ArxSpectEditor(arx)\n",
    "\n",
    "# Применяем коррекцию дисторсии\n",
    "# Здесь нужно задать значения top, down и начальный порядок полинома, например:\n",
    "top = 380        # отступ сверху (в пикселях)\n",
    "down = 240     # отступ снизу (в пикселях)\n",
    "order_mse = 3    # начальный порядок полинома\n",
    "\n",
    "corrected_data = editor.SDistorsionCorr(top=top, down=down, order_mse=order_mse)\n",
    "\n",
    "# Покажем результат\n",
    "if corrected_data is not None:\n",
    "    plt.figure(figsize=(10, 5))\n",
    "    plt.imshow(corrected_data, cmap=\"gray\")\n",
    "    plt.title(\"Corrected Image\")\n",
    "    plt.colorbar()\n",
    "    plt.show()\n",
    "else:\n",
    "    print(\"Ошибка при выполнении коррекции дисторсии.\")"
   ]
  },
  {
   "cell_type": "code",
   "execution_count": null,
   "id": "da5e109b-28f5-4554-a196-f54ff44bd1e0",
   "metadata": {},
   "outputs": [],
   "source": []
  }
 ],
 "metadata": {
  "kernelspec": {
   "display_name": "Python 3 (ipykernel)",
   "language": "python",
   "name": "python3"
  },
  "language_info": {
   "codemirror_mode": {
    "name": "ipython",
    "version": 3
   },
   "file_extension": ".py",
   "mimetype": "text/x-python",
   "name": "python",
   "nbconvert_exporter": "python",
   "pygments_lexer": "ipython3",
   "version": "3.11.7"
  }
 },
 "nbformat": 4,
 "nbformat_minor": 5
}
