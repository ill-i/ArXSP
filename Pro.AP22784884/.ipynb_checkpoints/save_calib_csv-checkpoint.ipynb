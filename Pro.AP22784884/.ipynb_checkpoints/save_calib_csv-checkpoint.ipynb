{
 "cells": [
  {
   "cell_type": "code",
   "execution_count": 31,
   "id": "4681a8cc-76ca-41e6-8d5b-7a38db619edf",
   "metadata": {},
   "outputs": [],
   "source": [
    "import os\n",
    "import csv\n",
    "import numpy as np\n",
    "import re\n",
    "from datetime import datetime\n",
    "\n",
    "def extract_date_from_filename(filename):\n",
    "    \"\"\"\n",
    "    Extracts the second or only date from a filename.\n",
    "    Supports formats like dd.mm.yyyy, dd-mm-yyyy, dd.mm.yy etc.\n",
    "    \"\"\"\n",
    "    date_patterns = re.findall(r'\\d{2}[\\.-]\\d{2}[\\.-]\\d{2,4}', filename)\n",
    "    \n",
    "    if not date_patterns:\n",
    "        return None\n",
    "    elif len(date_patterns) == 1:\n",
    "        return date_patterns[0].replace(\"-\", \".\")\n",
    "    else:\n",
    "        return date_patterns[1].replace(\"-\", \".\")\n",
    "\n",
    "def is_valid_date(date_str):\n",
    "    \"\"\"\n",
    "    Checks whether the date is in valid format and realistic (dd.mm.yyyy).\n",
    "    \"\"\"\n",
    "    try:\n",
    "        datetime.strptime(date_str, \"%d.%m.%Y\")\n",
    "        return True\n",
    "    except ValueError:\n",
    "        return False\n",
    "\n",
    "def append_poly_to_csv(best_poly, extra_poly, root, filename=None):\n",
    "    \"\"\"\n",
    "    Appends a row to 'calibration_polynomial.csv'.\n",
    "    Columns: date_obs, best_poly, extra_poly, root\n",
    "    If filename is provided, extracts date from it. Otherwise, prompts the user.\n",
    "    \"\"\"\n",
    "    csv_path = \"calibration_polynomial.csv\"\n",
    "    date_obs = None\n",
    "\n",
    "    # Try to get date from filename\n",
    "    if filename:\n",
    "        raw_date = extract_date_from_filename(filename)\n",
    "        if raw_date and is_valid_date(raw_date):\n",
    "            date_obs = raw_date\n",
    "        else:\n",
    "            print(f\"Could not extract a valid date from filename: {filename}\")\n",
    "\n",
    "    # If no valid date found, ask user\n",
    "    while not date_obs:\n",
    "        user_input = input(\"Enter observation date (dd.mm.yyyy): \")\n",
    "        if is_valid_date(user_input):\n",
    "            date_obs = user_input\n",
    "        else:\n",
    "            print(\"Invalid date format or non-existent date. Please use format dd.mm.yyyy.\")\n",
    "\n",
    "    # Prepare row for saving\n",
    "    row = [\n",
    "        date_obs,\n",
    "        \";\".join(map(str, best_poly.coeffs)),\n",
    "        \";\".join(map(str, extra_poly)),\n",
    "        str(root)\n",
    "    ]\n",
    "\n",
    "    file_exists = os.path.isfile(csv_path)\n",
    "    with open(csv_path, mode='a', newline='') as file:\n",
    "        writer = csv.writer(file)\n",
    "        if not file_exists:\n",
    "            writer.writerow([\"date_obs\", \"best_poly\", \"extra_poly\", \"root\"])\n",
    "        writer.writerow(row)\n"
   ]
  },
  {
   "cell_type": "code",
   "execution_count": 15,
   "id": "b2e24dd8-4ed3-4893-9be1-6715c4a02913",
   "metadata": {},
   "outputs": [
    {
     "name": "stdout",
     "output_type": "stream",
     "text": [
      "     2\n",
      "1.5 x - 3.2 x + 0.7\n",
      "     7       6       5       4       3     2\n",
      "1.5 x - 3.2 x + 0.7 x + 2.3 x + 6.9 x + 4 x + 5.8\n"
     ]
    }
   ],
   "source": [
    "best_poly = np.poly1d([-.2, 1.5, -3.2, 0.7])\n",
    "extra_poly = np.poly1d([1, 0.7, 2.3, 6.9, 4, 0, 5.8])\n",
    "root = 600\n",
    "print(best_poly)\n",
    "print(extra_poly)\n"
   ]
  },
  {
   "cell_type": "code",
   "execution_count": 33,
   "id": "78afa7c9-c369-4ea6-ba22-0cac253009f0",
   "metadata": {},
   "outputs": [
    {
     "name": "stdin",
     "output_type": "stream",
     "text": [
      "Enter observation date (dd.mm.yyyy):  33.05.2004\n"
     ]
    },
    {
     "name": "stdout",
     "output_type": "stream",
     "text": [
      "Invalid date format or non-existent date. Please use format dd.mm.yyyy.\n"
     ]
    },
    {
     "name": "stdin",
     "output_type": "stream",
     "text": [
      "Enter observation date (dd.mm.yyyy):  20.05.2004\n"
     ]
    }
   ],
   "source": [
    "append_poly_to_csv(best_poly, extra_poly, root)"
   ]
  },
  {
   "cell_type": "code",
   "execution_count": null,
   "id": "908cffed-d730-4c3a-89e3-0810aae35aea",
   "metadata": {},
   "outputs": [],
   "source": []
  },
  {
   "cell_type": "code",
   "execution_count": null,
   "id": "84e15af3-a921-46dd-9508-23e3acad4ce9",
   "metadata": {},
   "outputs": [],
   "source": []
  },
  {
   "cell_type": "code",
   "execution_count": null,
   "id": "45eb1e0d-ee08-478a-86ee-ffde6430fafc",
   "metadata": {},
   "outputs": [],
   "source": []
  },
  {
   "cell_type": "code",
   "execution_count": null,
   "id": "dee9009b-930a-47de-9431-3fc440fd088f",
   "metadata": {},
   "outputs": [],
   "source": [
    "from ArxSR import ArxCollibEditor, ArxData\n",
    "import numpy as np\n",
    "\n",
    "editor = ArxCollibEditor(ArxData())  # пустой, если не нужен файл\n",
    "\n",
    "x_all = np.array([\n",
    "    400, 450, 500, 550, 600, 650, 700, 750,\n",
    "    800, 850, 900, 950, 1000, 1050, 1100, 1150,\n",
    "    1200, 1250, 1300, 1350, 1400, 1450, 1500,\n",
    "    1550, 1600, 1650, 1700, 1750, 1800, 1850\n",
    "])\n",
    "\n",
    "y_all = np.array([\n",
    "     30,   60,  100,  160,  220,  300,  400,  520,\n",
    "    650,  800,  970, 1150, 1350, 1570, 1810, 2070,\n",
    "   2350, 2650, 2970, 3310, 3670, 4050, 4450,\n",
    "   4870, 5300, 5700, 6000, 6200, 6400, 6600\n",
    "])\n",
    "\n",
    "\n",
    "best_poly, extrapolate_fn, root = editor.fit_monotonic_poly(x_all, y_all)\n",
    "editor.plot_polynomials(x_all, y_all, best_poly, extrapolate_fn)"
   ]
  },
  {
   "cell_type": "code",
   "execution_count": 23,
   "id": "e48a50ce-5b65-498a-bd8e-dffba3c14a2e",
   "metadata": {},
   "outputs": [
    {
     "name": "stderr",
     "output_type": "stream",
     "text": [
      "/tmp/ipykernel_5139/710916932.py:57: RuntimeWarning: The iteration is not making good progress, as measured by the \n",
      "  improvement from the last ten iterations.\n",
      "  root = fsolve(poly_function, 1)[0]\n"
     ]
    }
   ],
   "source": [
    "best_poly, polynomial_extrapolate, root = poly_mse_new(x_data, y_data)"
   ]
  },
  {
   "cell_type": "code",
   "execution_count": 37,
   "id": "542562c0-7123-4b77-abe2-d725a4947fd5",
   "metadata": {},
   "outputs": [
    {
     "data": {
      "image/png": "[encoded data removed]",
      "text/plain": [
       "<Figure size 1000x600 with 1 Axes>"
      ]
     },
     "metadata": {},
     "output_type": "display_data"
    }
   ],
   "source": [
    "plot_polynomials(x_data, y_data, best_poly, polynomial_extrapolate)"
   ]
  },
  {
   "cell_type": "code",
   "execution_count": null,
   "id": "31f77d95-ba3b-44d3-a5d0-c9c21574799b",
   "metadata": {},
   "outputs": [],
   "source": []
  }
 ],
 "metadata": {
  "kernelspec": {
   "display_name": "Python 3 (ipykernel)",
   "language": "python",
   "name": "python3"
  },
  "language_info": {
   "codemirror_mode": {
    "name": "ipython",
    "version": 3
   },
   "file_extension": ".py",
   "mimetype": "text/x-python",
   "name": "python",
   "nbconvert_exporter": "python",
   "pygments_lexer": "ipython3",
   "version": "3.12.4"
  }
 },
 "nbformat": 4,
 "nbformat_minor": 5
}
