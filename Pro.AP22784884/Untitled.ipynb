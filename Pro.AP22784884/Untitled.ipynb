{
 "cells": [
  {
   "cell_type": "code",
   "execution_count": 14,
   "id": "bd1f780f-f7cc-46fa-a9f1-6a22da110c25",
   "metadata": {
    "tags": []
   },
   "outputs": [],
   "source": [
    "from ArxSR import ArxData, ArxDataEditor\n",
    "from astropy.io import fits\n",
    "from pathlib import Path\n",
    "import sys\n",
    "import os\n",
    "from datetime import datetime \n",
    "\n",
    "def rotate_fits(input_path, angle=0.5):\n",
    "    # Загружаем файл через ArxData\n",
    "    arx = ArxData(input_path)\n",
    "    \n",
    "    # Получаем редактор данных\n",
    "    editor = ArxDataEditor(arx)\n",
    "\n",
    "    # Поворачиваем изображение\n",
    "    rotated = editor.rotate(angle)\n",
    "    print(rotated)\n",
    "    # Получаем данные и заголовок\n",
    "    data = rotated.get_data()\n",
    "    header = rotated.get_header()\n",
    "    #header.add_history(f\"Image was rotated on {angle:.1f} deg\")\n",
    "    #header['DATE'] = datetime.utcnow().strftime('%Y-%m-%dT%H:%M:%S')\n",
    "    # Создаём новое имя\n",
    "    input_path = Path(input_path)\n",
    "    new_name = input_path.with_name(f\"{input_path.stem}_rotated{input_path.suffix}\")\n",
    "\n",
    "    # Сохраняем как новый FITS-файл\n",
    "    hdu = fits.PrimaryHDU(data, header=header)\n",
    "    hdu.writeto(new_name, overwrite=True)\n",
    "    print(f\"Saved rotated FITS to: {new_name}\")"
   ]
  },
  {
   "cell_type": "code",
   "execution_count": 18,
   "id": "14c5ebda-6923-41e2-a122-b476e317625d",
   "metadata": {},
   "outputs": [
    {
     "data": {
      "text/plain": [
       "'/home/izm-ildana/astro/ArXSP/Pro.AP22784884'"
      ]
     },
     "execution_count": 18,
     "metadata": {},
     "output_type": "execute_result"
    }
   ],
   "source": [
    "pwd"
   ]
  },
  {
   "cell_type": "code",
   "execution_count": 26,
   "id": "225e3435-62e0-407b-b1f7-dcbbb17c1765",
   "metadata": {
    "tags": []
   },
   "outputs": [
    {
     "name": "stdout",
     "output_type": "stream",
     "text": [
      "bV462Lupi_ThAr-001\n",
      "<ArxSR.ArxData object at 0x7fbddb506ed0>\n",
      "Saved rotated FITS to: /home/izm-ildana/Downloads/raw/bV462Lupi_ThAr-001_rotated.fit\n"
     ]
    }
   ],
   "source": [
    "rotate_fits(\"/home/izm-ildana/Downloads/raw/bV462Lupi_ThAr-001.fit\", angle=3)"
   ]
  },
  {
   "cell_type": "code",
   "execution_count": 58,
   "id": "e025b832-fd08-49f8-8e25-9a3642ab33c8",
   "metadata": {
    "tags": []
   },
   "outputs": [
    {
     "data": {
      "text/plain": [
       "['/Users/ildana/Downloads/raw/dV462Lupi-004.fit',\n",
       " '/Users/ildana/Downloads/raw/dV462Lupi-001.fit',\n",
       " '/Users/ildana/Downloads/raw/dV462Lupi-003.fit',\n",
       " '/Users/ildana/Downloads/raw/dV462Lupi-002.fit',\n",
       " '/Users/ildana/Downloads/raw/bV462Lupi_ThAr-003.fit',\n",
       " '/Users/ildana/Downloads/raw/bV462Lupi_ThAr-002.fit',\n",
       " '/Users/ildana/Downloads/raw/bV462Lupi_ThAr-001.fit']"
      ]
     },
     "execution_count": 58,
     "metadata": {},
     "output_type": "execute_result"
    }
   ],
   "source": [
    "path = \"/Users/ildana/Downloads/raw/\"\n",
    "files = [os.path.join(path, f) for f in os.listdir(path) if f.endswith(\".fit\") and \"rotated\" not in f]\n",
    "files"
   ]
  },
  {
   "cell_type": "code",
   "execution_count": 60,
   "id": "131c4555-e646-488e-a9cc-911b79ea19db",
   "metadata": {
    "tags": []
   },
   "outputs": [
    {
     "name": "stdout",
     "output_type": "stream",
     "text": [
      "dV462Lupi-004\n",
      "Saved rotated FITS to: /Users/ildana/Downloads/raw/dV462Lupi-004_rotated.fit\n",
      "dV462Lupi-001\n",
      "Saved rotated FITS to: /Users/ildana/Downloads/raw/dV462Lupi-001_rotated.fit\n",
      "dV462Lupi-003\n",
      "Saved rotated FITS to: /Users/ildana/Downloads/raw/dV462Lupi-003_rotated.fit\n",
      "dV462Lupi-002\n",
      "Saved rotated FITS to: /Users/ildana/Downloads/raw/dV462Lupi-002_rotated.fit\n",
      "bV462Lupi_ThAr-003\n",
      "Saved rotated FITS to: /Users/ildana/Downloads/raw/bV462Lupi_ThAr-003_rotated.fit\n",
      "bV462Lupi_ThAr-002\n",
      "Saved rotated FITS to: /Users/ildana/Downloads/raw/bV462Lupi_ThAr-002_rotated.fit\n",
      "bV462Lupi_ThAr-001\n",
      "Saved rotated FITS to: /Users/ildana/Downloads/raw/bV462Lupi_ThAr-001_rotated.fit\n"
     ]
    }
   ],
   "source": [
    "for fit in files:\n",
    "    \n",
    "    rotate_fits(fit, angle=-0.5)"
   ]
  },
  {
   "cell_type": "code",
   "execution_count": null,
   "id": "0559e52f-c526-4139-b8a0-48d41e5ce633",
   "metadata": {},
   "outputs": [],
   "source": []
  },
  {
   "cell_type": "code",
   "execution_count": null,
   "id": "2e4e3b00-c95f-48c0-8083-850254b143d0",
   "metadata": {},
   "outputs": [],
   "source": []
  },
  {
   "cell_type": "code",
   "execution_count": null,
   "id": "343c3c10-c211-431e-8743-29a355b1fa28",
   "metadata": {},
   "outputs": [],
   "source": []
  }
 ],
 "metadata": {
  "kernelspec": {
   "display_name": "Python 3 (ipykernel)",
   "language": "python",
   "name": "python3"
  },
  "language_info": {
   "codemirror_mode": {
    "name": "ipython",
    "version": 3
   },
   "file_extension": ".py",
   "mimetype": "text/x-python",
   "name": "python",
   "nbconvert_exporter": "python",
   "pygments_lexer": "ipython3",
   "version": "3.12.4"
  }
 },
 "nbformat": 4,
 "nbformat_minor": 5
}
